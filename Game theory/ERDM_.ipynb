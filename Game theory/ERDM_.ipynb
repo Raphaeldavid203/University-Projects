{
  "nbformat": 4,
  "nbformat_minor": 0,
  "metadata": {
    "colab": {
      "provenance": [],
      "authorship_tag": "ABX9TyNL7L9mjm8cAwNupuBCx8wh",
      "include_colab_link": true
    },
    "kernelspec": {
      "name": "python3",
      "display_name": "Python 3"
    },
    "language_info": {
      "name": "python"
    }
  },
  "cells": [
    {
      "cell_type": "markdown",
      "metadata": {
        "id": "view-in-github",
        "colab_type": "text"
      },
      "source": [
        "<a href=\"https://colab.research.google.com/github/Raphaeldavid203/University-Projects/blob/main/ERDM_.ipynb\" target=\"_parent\"><img src=\"https://colab.research.google.com/assets/colab-badge.svg\" alt=\"Open In Colab\"/></a>"
      ]
    },
    {
      "cell_type": "code",
      "execution_count": 1,
      "metadata": {
        "colab": {
          "base_uri": "https://localhost:8080/"
        },
        "id": "uL9wzTVYnf_j",
        "outputId": "56be24b8-0763-4e21-a62d-8c594ee8ce37"
      },
      "outputs": [
        {
          "output_type": "stream",
          "name": "stdout",
          "text": [
            "Fair distribution of refugees based on multiple criteria:\n",
            "United Kingdom : 255332 refugees\n",
            "Austria : 203325 refugees\n",
            "Belgium : 220290 refugees\n",
            "Bulgaria : 52479 refugees\n",
            "Croatia : 111258 refugees\n",
            "Cyprus : 129717 refugees\n",
            "Czech Republic : 145260 refugees\n",
            "Denmark : 213031 refugees\n",
            "Estonia : 122001 refugees\n",
            "Finland : 214135 refugees\n",
            "France : 272237 refugees\n",
            "Germany : 295135 refugees\n",
            "Greece : 158827 refugees\n",
            "Hungary : 117383 refugees\n",
            "Ireland : 180003 refugees\n",
            "Italy : 250639 refugees\n",
            "Latvia : 102006 refugees\n",
            "Lithuania : 103068 refugees\n",
            "Luxembourg : 241967 refugees\n",
            "Malta : 144752 refugees\n",
            "Netherlands : 209518 refugees\n",
            "Poland : 160253 refugees\n",
            "Portugal : 128018 refugees\n",
            "Romania : 84389 refugees\n",
            "Slovakia : 101315 refugees\n",
            "Slovenia : 160490 refugees\n",
            "Spain : 208771 refugees\n",
            "Sweden : 214154 refugees\n"
          ]
        }
      ],
      "source": [
        "countries = {\n",
        "    \"United Kingdom\": {\"GDP_per_capita\": 46125.3, \"Government_expenditure\": 44.3, \"Population\": 67081000, \"HDI\": 0.929},\n",
        "    \"Austria\": {\"GDP_per_capita\": 52084.7, \"Government_expenditure\": 52.8, \"Population\": 8884864, \"HDI\": 0.916},\n",
        "    \"Belgium\": {\"GDP_per_capita\": 49926.8, \"Government_expenditure\": 53.55, \"Population\": 11778842, \"HDI\": 0.937},\n",
        "    \"Bulgaria\": {\"GDP_per_capita\": 13974.4, \"Government_expenditure\": 38.24, \"Population\": 6919180, \"HDI\": 0.795},\n",
        "    \"Croatia\": {\"GDP_per_capita\": 18570.4, \"Government_expenditure\": 45.12, \"Population\": 4208973, \"HDI\": 0.858},\n",
        "    \"Cyprus\": {\"GDP_per_capita\": 32048.2, \"Government_expenditure\": 39.81, \"Population\": 1281506, \"HDI\": 0.896},\n",
        "    \"Czech Republic\": {\"GDP_per_capita\": 27226.6, \"Government_expenditure\": 44.65, \"Population\": 10702596, \"HDI\": 0.889},\n",
        "    \"Denmark\": {\"GDP_per_capita\": 67790.1, \"Government_expenditure\": 44.89, \"Population\": 5894687, \"HDI\": 0.948},\n",
        "    \"Estonia\": {\"GDP_per_capita\": 28247.1, \"Government_expenditure\": 39.62, \"Population\": 1220042, \"HDI\": 0.89},\n",
        "    \"Finland\": {\"GDP_per_capita\": 50871.9, \"Government_expenditure\": 53.05, \"Population\": 5587442, \"HDI\": 0.94},\n",
        "     \"France\": {\"GDP_per_capita\": 40886.3, \"Government_expenditure\": 58.34, \"Population\": 68084217, \"HDI\": 0.903},\n",
        "    \"Germany\": {\"GDP_per_capita\": 48718, \"Government_expenditure\": 49.48, \"Population\": 79903481, \"HDI\": 0.942},\n",
        "    \"Greece\": {\"GDP_per_capita\": 20867.3, \"Government_expenditure\": 52.5, \"Population\": 10569703, \"HDI\": 0.887},\n",
        "    \"Hungary\": {\"GDP_per_capita\": 18390.2, \"Government_expenditure\": 47.85, \"Population\": 9728337, \"HDI\": 0.846},\n",
        "    \"Ireland\": {\"GDP_per_capita\": 103983.3, \"Government_expenditure\": 21.23, \"Population\": 5224884, \"HDI\": 0.945},\n",
        "    \"Italy\": {\"GDP_per_capita\": 34776.4, \"Government_expenditure\": 56.74, \"Population\": 62390364, \"HDI\": 0.895},\n",
        "    \"Latvia\": {\"GDP_per_capita\": 21779.5, \"Government_expenditure\": 40.40, \"Population\": 1862687, \"HDI\": 0.863},\n",
        "    \"Lithuania\": {\"GDP_per_capita\": 25064.8, \"Government_expenditure\": 36.40, \"Population\": 2711566, \"HDI\": 0.875},\n",
        "    \"Luxembourg\": {\"GDP_per_capita\": 125006, \"Government_expenditure\": 43.63, \"Population\": 639589, \"HDI\": 0.93},\n",
        "    \"Malta\": {\"GDP_per_capita\": 34127.5, \"Government_expenditure\": 39.90, \"Population\": 460891, \"HDI\": 0.918},\n",
        "     \"Netherlands\": {\"GDP_per_capita\": 57025, \"Government_expenditure\": 43.5, \"Population\": 17337403, \"HDI\": 0.941},\n",
        "    \"Poland\": {\"GDP_per_capita\": 18688, \"Government_expenditure\": 43.54, \"Population\": 38185913, \"HDI\": 0.876},\n",
        "    \"Portugal\": {\"GDP_per_capita\": 24515.3, \"Government_expenditure\": 44.76, \"Population\": 10263850, \"HDI\": 0.866},\n",
        "    \"Romania\": {\"GDP_per_capita\": 15786.8, \"Government_expenditure\": 36.82, \"Population\": 21230362, \"HDI\": 0.821},\n",
        "    \"Slovakia\": {\"GDP_per_capita\": 21256.8, \"Government_expenditure\": 42.28, \"Population\": 5436066, \"HDI\": 0.848},\n",
        "    \"Slovenia\": {\"GDP_per_capita\": 28439.3, \"Government_expenditure\": 47.04, \"Population\": 2102106, \"HDI\": 0.918},\n",
        "    \"Spain\": {\"GDP_per_capita\": 29674.5, \"Government_expenditure\": 47.11, \"Population\": 47260584, \"HDI\": 0.905},\n",
        "    \"Sweden\": {\"GDP_per_capita\": 56424.3, \"Government_expenditure\": 47.32, \"Population\": 10261767, \"HDI\": 0.947},\n",
        "}\n",
        "\n",
        "# Weights assigned to each criterion\n",
        "weights = {\"GDP_per_capita\": 0.25, \"Government_expenditure\": 0.25, \"Population\": 0.25, \"HDI\": 0.25}\n",
        "\n",
        "total_number_of_refugees = 4799770\n",
        "\n",
        "def normalize(value, min_val, max_val):\n",
        "    \"\"\"Normalize a value between 0 and 1.\"\"\"\n",
        "    return (value - min_val) / (max_val - min_val)\n",
        "\n",
        "# Normalization of criteria\n",
        "for criterion in weights:\n",
        "    values = [countries[c][criterion] for c in countries]\n",
        "    min_val, max_val = min(values), max(values)\n",
        "    for c in countries:\n",
        "        countries[c][f\"{criterion}_normalized\"] = normalize(countries[c][criterion], min_val, max_val)\n",
        "\n",
        "# Calculation of the hosting capacity score for each country\n",
        "for c in countries:\n",
        "    countries[c][\"hosting_capacity_score\"] = sum(countries[c][f\"{criterion}_normalized\"] * weight for criterion, weight in weights.items())\n",
        "\n",
        "# Total hosting capacity scores\n",
        "total_hosting_capacity_score = sum(countries[c][\"hosting_capacity_score\"] for c in countries)\n",
        "\n",
        "# Distribution of refugees according to the hosting capacity score\n",
        "refugees_distribution = {c: int((countries[c][\"hosting_capacity_score\"] / total_hosting_capacity_score) * total_number_of_refugees) for c in countries}\n",
        "\n",
        "# Display the calculated distribution\n",
        "print(\"Fair distribution of refugees based on multiple criteria:\")\n",
        "for c, number in refugees_distribution.items():\n",
        "    print(f\"{c} : {number} refugees\")\n"
      ]
    }
  ]
}
